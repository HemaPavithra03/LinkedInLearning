{
 "cells": [
  {
   "cell_type": "markdown",
   "id": "b9ab183e-166d-43a7-aad2-a8dbae6613f3",
   "metadata": {},
   "source": [
    "# Title\n",
    "## Smaller Title"
   ]
  },
  {
   "cell_type": "markdown",
   "id": "1d176743-0f20-42ec-9c5c-4606f67ca7b6",
   "metadata": {},
   "source": []
  },
  {
   "cell_type": "code",
   "execution_count": 1,
   "id": "4a96c3c2-a4d1-4cf8-be12-43fc268517f1",
   "metadata": {},
   "outputs": [
    {
     "name": "stdout",
     "output_type": "stream",
     "text": [
      "Doing some Data Science\n"
     ]
    }
   ],
   "source": [
    "print('Doing some Data Science')"
   ]
  },
  {
   "cell_type": "code",
   "execution_count": null,
   "id": "df6edd34-efb8-40f9-8f65-ae6023969fc3",
   "metadata": {},
   "outputs": [],
   "source": []
  },
  {
   "cell_type": "code",
   "execution_count": null,
   "id": "4bc7bd48-f0ef-4eb2-a1df-04152f8c4e59",
   "metadata": {},
   "outputs": [],
   "source": []
  }
 ],
 "metadata": {
  "kernelspec": {
   "display_name": "Python 3 (ipykernel)",
   "language": "python",
   "name": "python3"
  },
  "language_info": {
   "codemirror_mode": {
    "name": "ipython",
    "version": 3
   },
   "file_extension": ".py",
   "mimetype": "text/x-python",
   "name": "python",
   "nbconvert_exporter": "python",
   "pygments_lexer": "ipython3",
   "version": "3.11.4"
  }
 },
 "nbformat": 4,
 "nbformat_minor": 5
}
